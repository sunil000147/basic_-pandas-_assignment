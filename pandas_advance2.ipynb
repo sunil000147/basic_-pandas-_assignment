{
 "cells": [
  {
   "cell_type": "code",
   "execution_count": 6,
   "id": "602fb4cb-e607-40b6-8563-cf59d1e85b76",
   "metadata": {},
   "outputs": [],
   "source": [
    "import pandas as pd"
   ]
  },
  {
   "cell_type": "code",
   "execution_count": 5,
   "id": "94486440-9443-424c-9d4f-20d089749e02",
   "metadata": {},
   "outputs": [],
   "source": [
    "course_name = [\"Data Science\", \"Machine Learning\", \"Big Data\", \"Data Engineer\"]\n",
    "duration = [2,3,6,4]\n",
    "df = pd.DataFrame({'course_name':[\"Data Science\", \"Machine Learning\", \"Big Data\", \"Data Engineer\"],'duration':[2,3,6,4]} )"
   ]
  },
  {
   "cell_type": "markdown",
   "id": "daec0de3-3be3-404e-a2de-7d883dc38232",
   "metadata": {},
   "source": [
    "Q1. Write a code to print the data present in the second row of the dataframe, df."
   ]
  },
  {
   "cell_type": "code",
   "execution_count": 6,
   "id": "ef6e8389-9ebc-4b02-aa4d-01e714fc723f",
   "metadata": {},
   "outputs": [
    {
     "data": {
      "text/plain": [
       "course_name    Machine Learning\n",
       "duration                      3\n",
       "Name: 1, dtype: object"
      ]
     },
     "execution_count": 6,
     "metadata": {},
     "output_type": "execute_result"
    }
   ],
   "source": [
    "df.loc[1]"
   ]
  },
  {
   "cell_type": "markdown",
   "id": "c18755e4-3217-4f46-902a-5e99d3e82d26",
   "metadata": {
    "tags": []
   },
   "source": [
    "#Q2. What is the difference between the functions loc and iloc in pandas.DataFrame?\n",
    "\n",
    "#ans. loc is a label-based referencing function, which means that you use the labels of rows and columns to select the data. You can use loc to select rows and columns based on their labels or boolean arrays. For example, df.loc[3] selects the row with the label '3', while df.loc[:, 'A'] selects all rows of the 'A' column.\n",
    "\n",
    "iloc, on the other hand, is an integer-based referencing function, which means that you use the integer position of rows and columns to select the data. You can use iloc to select rows and columns based on their integer position or boolean arrays. For example, df.iloc[3] selects the fourth row, while df.iloc[:, 0] selects all rows of the first column.\n",
    "\n",
    "df = pd.DataFrame({'A': [1, 2, 3], 'B': [4, 5, 6], 'C': [7, 8, 9]}, index=['a', 'b', 'c'])\n",
    "\n",
    "# using loc to select rows and columns based on labels\n",
    "print(df.loc['a':'b', 'A':'B'])\n",
    "\n",
    "# using iloc to select rows and columns based on integer position\n",
    "print(df.iloc[0:2, 0:2])\n",
    "In the above example, df.loc['a':'b', 'A':'B'] selects rows 'a' and 'b', and columns 'A' and 'B' using labels, while df.iloc[0:2, 0:2] selects the first two rows and columns using integer position."
   ]
  },
  {
   "cell_type": "code",
   "execution_count": 7,
   "id": "5470329f-44ef-4aa8-9116-b4a666bddae7",
   "metadata": {},
   "outputs": [
    {
     "data": {
      "text/html": [
       "<div>\n",
       "<style scoped>\n",
       "    .dataframe tbody tr th:only-of-type {\n",
       "        vertical-align: middle;\n",
       "    }\n",
       "\n",
       "    .dataframe tbody tr th {\n",
       "        vertical-align: top;\n",
       "    }\n",
       "\n",
       "    .dataframe thead th {\n",
       "        text-align: right;\n",
       "    }\n",
       "</style>\n",
       "<table border=\"1\" class=\"dataframe\">\n",
       "  <thead>\n",
       "    <tr style=\"text-align: right;\">\n",
       "      <th></th>\n",
       "      <th>course_name</th>\n",
       "      <th>duration</th>\n",
       "    </tr>\n",
       "  </thead>\n",
       "  <tbody>\n",
       "    <tr>\n",
       "      <th>0</th>\n",
       "      <td>Data Science</td>\n",
       "      <td>2</td>\n",
       "    </tr>\n",
       "    <tr>\n",
       "      <th>1</th>\n",
       "      <td>Machine Learning</td>\n",
       "      <td>3</td>\n",
       "    </tr>\n",
       "    <tr>\n",
       "      <th>2</th>\n",
       "      <td>Big Data</td>\n",
       "      <td>6</td>\n",
       "    </tr>\n",
       "    <tr>\n",
       "      <th>3</th>\n",
       "      <td>Data Engineer</td>\n",
       "      <td>4</td>\n",
       "    </tr>\n",
       "  </tbody>\n",
       "</table>\n",
       "</div>"
      ],
      "text/plain": [
       "        course_name  duration\n",
       "0      Data Science         2\n",
       "1  Machine Learning         3\n",
       "2          Big Data         6\n",
       "3     Data Engineer         4"
      ]
     },
     "execution_count": 7,
     "metadata": {},
     "output_type": "execute_result"
    }
   ],
   "source": [
    "df"
   ]
  },
  {
   "cell_type": "code",
   "execution_count": 8,
   "id": "8292efe3-5d8c-43ee-ab6b-68962c649358",
   "metadata": {},
   "outputs": [],
   "source": [
    "new_df = df.reindex([3, 0, 1,2])"
   ]
  },
  {
   "cell_type": "code",
   "execution_count": 9,
   "id": "99e2587e-2a0e-4425-a572-ae252d83b88e",
   "metadata": {},
   "outputs": [
    {
     "data": {
      "text/plain": [
       "course_name    Big Data\n",
       "duration              6\n",
       "Name: 2, dtype: object"
      ]
     },
     "execution_count": 9,
     "metadata": {},
     "output_type": "execute_result"
    }
   ],
   "source": [
    "new_df.loc[2]"
   ]
  },
  {
   "cell_type": "code",
   "execution_count": 10,
   "id": "5952e44b-946a-4fb7-8d8c-191489fa1a5c",
   "metadata": {},
   "outputs": [
    {
     "data": {
      "text/plain": [
       "course_name    Big Data\n",
       "duration              6\n",
       "Name: 2, dtype: object"
      ]
     },
     "execution_count": 10,
     "metadata": {},
     "output_type": "execute_result"
    }
   ],
   "source": [
    "df.iloc[2]"
   ]
  },
  {
   "cell_type": "code",
   "execution_count": 11,
   "id": "7ae9aafa-66f4-48e0-820c-cb4d4ded045d",
   "metadata": {},
   "outputs": [],
   "source": [
    "import pandas as pd"
   ]
  },
  {
   "cell_type": "code",
   "execution_count": 12,
   "id": "b4481f77-1b8e-4852-8e25-eeb01a0a9b83",
   "metadata": {},
   "outputs": [],
   "source": [
    "import numpy as np"
   ]
  },
  {
   "cell_type": "code",
   "execution_count": 13,
   "id": "e683ff40-5c6c-478a-bad2-e7420ff40410",
   "metadata": {},
   "outputs": [],
   "source": [
    "columns = ['column_1', 'column_2', 'column_3', 'column_4', 'column_5', 'column_6']\n",
    "indices = [1,2,3,4,5,6]\n",
    "#Creating a dataframe:\n",
    "df1 = pd.DataFrame(np.random.rand(6,6), columns = columns, index = indices)"
   ]
  },
  {
   "cell_type": "code",
   "execution_count": 14,
   "id": "b8d9dc1c-058a-4f94-a194-e11593358c6c",
   "metadata": {},
   "outputs": [
    {
     "data": {
      "text/html": [
       "<div>\n",
       "<style scoped>\n",
       "    .dataframe tbody tr th:only-of-type {\n",
       "        vertical-align: middle;\n",
       "    }\n",
       "\n",
       "    .dataframe tbody tr th {\n",
       "        vertical-align: top;\n",
       "    }\n",
       "\n",
       "    .dataframe thead th {\n",
       "        text-align: right;\n",
       "    }\n",
       "</style>\n",
       "<table border=\"1\" class=\"dataframe\">\n",
       "  <thead>\n",
       "    <tr style=\"text-align: right;\">\n",
       "      <th></th>\n",
       "      <th>column_1</th>\n",
       "      <th>column_2</th>\n",
       "      <th>column_3</th>\n",
       "      <th>column_4</th>\n",
       "      <th>column_5</th>\n",
       "      <th>column_6</th>\n",
       "    </tr>\n",
       "  </thead>\n",
       "  <tbody>\n",
       "    <tr>\n",
       "      <th>1</th>\n",
       "      <td>0.356226</td>\n",
       "      <td>0.780998</td>\n",
       "      <td>0.544191</td>\n",
       "      <td>0.290202</td>\n",
       "      <td>0.301205</td>\n",
       "      <td>0.339245</td>\n",
       "    </tr>\n",
       "    <tr>\n",
       "      <th>2</th>\n",
       "      <td>0.383741</td>\n",
       "      <td>0.518949</td>\n",
       "      <td>0.601170</td>\n",
       "      <td>0.024861</td>\n",
       "      <td>0.124817</td>\n",
       "      <td>0.285693</td>\n",
       "    </tr>\n",
       "    <tr>\n",
       "      <th>3</th>\n",
       "      <td>0.045475</td>\n",
       "      <td>0.655756</td>\n",
       "      <td>0.651447</td>\n",
       "      <td>0.338374</td>\n",
       "      <td>0.049428</td>\n",
       "      <td>0.764821</td>\n",
       "    </tr>\n",
       "    <tr>\n",
       "      <th>4</th>\n",
       "      <td>0.093578</td>\n",
       "      <td>0.057334</td>\n",
       "      <td>0.482250</td>\n",
       "      <td>0.713423</td>\n",
       "      <td>0.729485</td>\n",
       "      <td>0.349088</td>\n",
       "    </tr>\n",
       "    <tr>\n",
       "      <th>5</th>\n",
       "      <td>0.558376</td>\n",
       "      <td>0.220979</td>\n",
       "      <td>0.440144</td>\n",
       "      <td>0.952520</td>\n",
       "      <td>0.288900</td>\n",
       "      <td>0.493039</td>\n",
       "    </tr>\n",
       "    <tr>\n",
       "      <th>6</th>\n",
       "      <td>0.836359</td>\n",
       "      <td>0.927653</td>\n",
       "      <td>0.560501</td>\n",
       "      <td>0.863033</td>\n",
       "      <td>0.655362</td>\n",
       "      <td>0.381398</td>\n",
       "    </tr>\n",
       "  </tbody>\n",
       "</table>\n",
       "</div>"
      ],
      "text/plain": [
       "   column_1  column_2  column_3  column_4  column_5  column_6\n",
       "1  0.356226  0.780998  0.544191  0.290202  0.301205  0.339245\n",
       "2  0.383741  0.518949  0.601170  0.024861  0.124817  0.285693\n",
       "3  0.045475  0.655756  0.651447  0.338374  0.049428  0.764821\n",
       "4  0.093578  0.057334  0.482250  0.713423  0.729485  0.349088\n",
       "5  0.558376  0.220979  0.440144  0.952520  0.288900  0.493039\n",
       "6  0.836359  0.927653  0.560501  0.863033  0.655362  0.381398"
      ]
     },
     "execution_count": 14,
     "metadata": {},
     "output_type": "execute_result"
    }
   ],
   "source": [
    "df1"
   ]
  },
  {
   "cell_type": "code",
   "execution_count": 15,
   "id": "e23e4a07-60a6-4440-a215-9d9f69eee56d",
   "metadata": {},
   "outputs": [
    {
     "data": {
      "text/plain": [
       "column_1    0.378959\n",
       "column_2    0.526945\n",
       "column_3    0.546617\n",
       "column_4    0.530402\n",
       "column_5    0.358199\n",
       "column_6    0.435547\n",
       "dtype: float64"
      ]
     },
     "execution_count": 15,
     "metadata": {},
     "output_type": "execute_result"
    }
   ],
   "source": [
    "df1.mean()"
   ]
  },
  {
   "cell_type": "markdown",
   "id": "bf883f8b-dcee-4a74-942a-abe80b9d6d76",
   "metadata": {},
   "source": [
    "df1['column_1']"
   ]
  },
  {
   "cell_type": "code",
   "execution_count": 16,
   "id": "3543c9b0-cf90-4680-9313-130362ef19ee",
   "metadata": {},
   "outputs": [
    {
     "data": {
      "text/plain": [
       "0.37895932671772553"
      ]
     },
     "execution_count": 16,
     "metadata": {},
     "output_type": "execute_result"
    }
   ],
   "source": [
    "df1['column_1'].mean()"
   ]
  },
  {
   "cell_type": "code",
   "execution_count": 17,
   "id": "75943607-5c5f-4692-b696-8e232c2ec587",
   "metadata": {},
   "outputs": [
    {
     "data": {
      "text/plain": [
       "0.3334412828160564"
      ]
     },
     "execution_count": 17,
     "metadata": {},
     "output_type": "execute_result"
    }
   ],
   "source": [
    "df1['column_2'].std()"
   ]
  },
  {
   "cell_type": "code",
   "execution_count": 18,
   "id": "fd277d97-a596-48ff-8dbc-a57c27b9b261",
   "metadata": {},
   "outputs": [
    {
     "data": {
      "text/html": [
       "<div>\n",
       "<style scoped>\n",
       "    .dataframe tbody tr th:only-of-type {\n",
       "        vertical-align: middle;\n",
       "    }\n",
       "\n",
       "    .dataframe tbody tr th {\n",
       "        vertical-align: top;\n",
       "    }\n",
       "\n",
       "    .dataframe thead th {\n",
       "        text-align: right;\n",
       "    }\n",
       "</style>\n",
       "<table border=\"1\" class=\"dataframe\">\n",
       "  <thead>\n",
       "    <tr style=\"text-align: right;\">\n",
       "      <th></th>\n",
       "      <th>column_1</th>\n",
       "      <th>column_2</th>\n",
       "      <th>column_3</th>\n",
       "      <th>column_4</th>\n",
       "      <th>column_5</th>\n",
       "      <th>column_6</th>\n",
       "    </tr>\n",
       "  </thead>\n",
       "  <tbody>\n",
       "    <tr>\n",
       "      <th>1</th>\n",
       "      <td>0.356226</td>\n",
       "      <td>0.780998</td>\n",
       "      <td>0.544191</td>\n",
       "      <td>0.290202</td>\n",
       "      <td>0.301205</td>\n",
       "      <td>0.339245</td>\n",
       "    </tr>\n",
       "    <tr>\n",
       "      <th>2</th>\n",
       "      <td>0.383741</td>\n",
       "      <td>0.518949</td>\n",
       "      <td>0.601170</td>\n",
       "      <td>0.024861</td>\n",
       "      <td>0.124817</td>\n",
       "      <td>0.285693</td>\n",
       "    </tr>\n",
       "    <tr>\n",
       "      <th>3</th>\n",
       "      <td>0.045475</td>\n",
       "      <td>0.655756</td>\n",
       "      <td>0.651447</td>\n",
       "      <td>0.338374</td>\n",
       "      <td>0.049428</td>\n",
       "      <td>0.764821</td>\n",
       "    </tr>\n",
       "    <tr>\n",
       "      <th>4</th>\n",
       "      <td>0.093578</td>\n",
       "      <td>0.057334</td>\n",
       "      <td>0.482250</td>\n",
       "      <td>0.713423</td>\n",
       "      <td>0.729485</td>\n",
       "      <td>0.349088</td>\n",
       "    </tr>\n",
       "    <tr>\n",
       "      <th>5</th>\n",
       "      <td>0.558376</td>\n",
       "      <td>0.220979</td>\n",
       "      <td>0.440144</td>\n",
       "      <td>0.952520</td>\n",
       "      <td>0.288900</td>\n",
       "      <td>0.493039</td>\n",
       "    </tr>\n",
       "    <tr>\n",
       "      <th>6</th>\n",
       "      <td>0.836359</td>\n",
       "      <td>0.927653</td>\n",
       "      <td>0.560501</td>\n",
       "      <td>0.863033</td>\n",
       "      <td>0.655362</td>\n",
       "      <td>0.381398</td>\n",
       "    </tr>\n",
       "  </tbody>\n",
       "</table>\n",
       "</div>"
      ],
      "text/plain": [
       "   column_1  column_2  column_3  column_4  column_5  column_6\n",
       "1  0.356226  0.780998  0.544191  0.290202  0.301205  0.339245\n",
       "2  0.383741  0.518949  0.601170  0.024861  0.124817  0.285693\n",
       "3  0.045475  0.655756  0.651447  0.338374  0.049428  0.764821\n",
       "4  0.093578  0.057334  0.482250  0.713423  0.729485  0.349088\n",
       "5  0.558376  0.220979  0.440144  0.952520  0.288900  0.493039\n",
       "6  0.836359  0.927653  0.560501  0.863033  0.655362  0.381398"
      ]
     },
     "execution_count": 18,
     "metadata": {},
     "output_type": "execute_result"
    }
   ],
   "source": [
    "df1"
   ]
  },
  {
   "cell_type": "code",
   "execution_count": 19,
   "id": "08d48309-71fc-4931-b6eb-813dba28f186",
   "metadata": {},
   "outputs": [],
   "source": [
    "df1.iloc[1,1] = 'sunil'"
   ]
  },
  {
   "cell_type": "code",
   "execution_count": 20,
   "id": "6cb1fd2b-6777-40f2-bea4-a27733b4df34",
   "metadata": {},
   "outputs": [
    {
     "data": {
      "text/html": [
       "<div>\n",
       "<style scoped>\n",
       "    .dataframe tbody tr th:only-of-type {\n",
       "        vertical-align: middle;\n",
       "    }\n",
       "\n",
       "    .dataframe tbody tr th {\n",
       "        vertical-align: top;\n",
       "    }\n",
       "\n",
       "    .dataframe thead th {\n",
       "        text-align: right;\n",
       "    }\n",
       "</style>\n",
       "<table border=\"1\" class=\"dataframe\">\n",
       "  <thead>\n",
       "    <tr style=\"text-align: right;\">\n",
       "      <th></th>\n",
       "      <th>column_1</th>\n",
       "      <th>column_2</th>\n",
       "      <th>column_3</th>\n",
       "      <th>column_4</th>\n",
       "      <th>column_5</th>\n",
       "      <th>column_6</th>\n",
       "    </tr>\n",
       "  </thead>\n",
       "  <tbody>\n",
       "    <tr>\n",
       "      <th>1</th>\n",
       "      <td>0.356226</td>\n",
       "      <td>0.780998</td>\n",
       "      <td>0.544191</td>\n",
       "      <td>0.290202</td>\n",
       "      <td>0.301205</td>\n",
       "      <td>0.339245</td>\n",
       "    </tr>\n",
       "    <tr>\n",
       "      <th>2</th>\n",
       "      <td>0.383741</td>\n",
       "      <td>sunil</td>\n",
       "      <td>0.601170</td>\n",
       "      <td>0.024861</td>\n",
       "      <td>0.124817</td>\n",
       "      <td>0.285693</td>\n",
       "    </tr>\n",
       "    <tr>\n",
       "      <th>3</th>\n",
       "      <td>0.045475</td>\n",
       "      <td>0.655756</td>\n",
       "      <td>0.651447</td>\n",
       "      <td>0.338374</td>\n",
       "      <td>0.049428</td>\n",
       "      <td>0.764821</td>\n",
       "    </tr>\n",
       "    <tr>\n",
       "      <th>4</th>\n",
       "      <td>0.093578</td>\n",
       "      <td>0.057334</td>\n",
       "      <td>0.482250</td>\n",
       "      <td>0.713423</td>\n",
       "      <td>0.729485</td>\n",
       "      <td>0.349088</td>\n",
       "    </tr>\n",
       "    <tr>\n",
       "      <th>5</th>\n",
       "      <td>0.558376</td>\n",
       "      <td>0.220979</td>\n",
       "      <td>0.440144</td>\n",
       "      <td>0.952520</td>\n",
       "      <td>0.288900</td>\n",
       "      <td>0.493039</td>\n",
       "    </tr>\n",
       "    <tr>\n",
       "      <th>6</th>\n",
       "      <td>0.836359</td>\n",
       "      <td>0.927653</td>\n",
       "      <td>0.560501</td>\n",
       "      <td>0.863033</td>\n",
       "      <td>0.655362</td>\n",
       "      <td>0.381398</td>\n",
       "    </tr>\n",
       "  </tbody>\n",
       "</table>\n",
       "</div>"
      ],
      "text/plain": [
       "   column_1  column_2  column_3  column_4  column_5  column_6\n",
       "1  0.356226  0.780998  0.544191  0.290202  0.301205  0.339245\n",
       "2  0.383741     sunil  0.601170  0.024861  0.124817  0.285693\n",
       "3  0.045475  0.655756  0.651447  0.338374  0.049428  0.764821\n",
       "4  0.093578  0.057334  0.482250  0.713423  0.729485  0.349088\n",
       "5  0.558376  0.220979  0.440144  0.952520  0.288900  0.493039\n",
       "6  0.836359  0.927653  0.560501  0.863033  0.655362  0.381398"
      ]
     },
     "execution_count": 20,
     "metadata": {},
     "output_type": "execute_result"
    }
   ],
   "source": [
    "df1"
   ]
  },
  {
   "cell_type": "markdown",
   "id": "406df86e-e8bb-4185-addd-a69eb33802a7",
   "metadata": {},
   "source": [
    "#Q6. What do you understand about the windows function in pandas and list the types of windows\n",
    "functions?"
   ]
  },
  {
   "cell_type": "markdown",
   "id": "eea502b5-a46c-49d4-a751-d45956d24c9a",
   "metadata": {},
   "source": [
    "ans. In Pandas, a window function is a way to perform calculations over a specified window or subset of a larger dataset. Window functions are useful for calculating rolling statistics, moving averages, cumulative sums, and other similar calculations.\n",
    "\n",
    "There are several types of window functions available in Pandas, including:\n",
    "\n",
    "Rolling window functions: These functions compute metrics over a rolling window, which is a fixed-size subset of the data. The window moves along the data and the function is applied to each subset of the data. Examples include rolling mean, rolling sum, rolling median, rolling standard deviation, etc.\n",
    "\n",
    "Expanding window functions: These functions compute metrics over an expanding window, which is a subset of the data that starts from the beginning of the data and grows as more data is added. The function is applied to each subset of the data. Examples include expanding mean, expanding sum, etc.\n",
    "\n",
    "Cumulative window functions: These functions compute metrics cumulatively over the entire dataset, without any window size. Examples include cumulative sum, cumulative max, cumulative min, etc."
   ]
  },
  {
   "cell_type": "markdown",
   "id": "b89cc7d4-d0d9-4e25-b5f9-2a778f6313b7",
   "metadata": {},
   "source": [
    "Q7. Write a code to print only the current month and year at the time of answering this question.\n",
    "[Hint: Use pandas.datetime function]"
   ]
  },
  {
   "cell_type": "code",
   "execution_count": 21,
   "id": "a704168b-004a-4c46-a8ef-9d55e145a44e",
   "metadata": {},
   "outputs": [
    {
     "name": "stdout",
     "output_type": "stream",
     "text": [
      "Current month and year: 3 / 2023\n"
     ]
    }
   ],
   "source": [
    "##\n",
    "# create a timestamp with the current date and time\n",
    "now = pd.Timestamp.now()\n",
    "\n",
    "# extract the month and year from the timestamp\n",
    "month = now.month\n",
    "year = now.year\n",
    "\n",
    "# print the current month and year\n",
    "print(\"Current month and year:\", month, \"/\", year)\n"
   ]
  },
  {
   "cell_type": "markdown",
   "id": "a2662b20-7b88-4b84-b10e-3641c1513b3d",
   "metadata": {},
   "source": [
    "Q8. Write a Python program that takes in two dates as input (in the format YYYY-MM-DD) and\n",
    "calculates the difference between them in days, hours, and minutes using Pandas time delta. The\n",
    "program should prompt the user to enter the dates and display the result."
   ]
  },
  {
   "cell_type": "code",
   "execution_count": null,
   "id": "63c02852-fa07-4631-ab7a-d732219420dc",
   "metadata": {},
   "outputs": [],
   "source": [
    "#\n",
    "# Prompt the user to enter the first date\n",
    "date1 = input(\"Enter the first date (YYYY-MM-DD): \")\n",
    "\n",
    "# Prompt the user to enter the second date\n",
    "date2 = input(\"Enter the second date (YYYY-MM-DD): \")\n",
    "\n",
    "# Convert the dates to pandas datetime format\n",
    "date1 = pd.to_datetime(date1)\n",
    "date2 = pd.to_datetime(date2)\n",
    "\n",
    "# Calculate the time difference between the dates\n",
    "time_diff = date2 - date1\n",
    "\n",
    "# Extract the number of days, hours, and minutes from the time difference\n",
    "days = time_diff.days\n",
    "hours = time_diff.seconds // 3600\n",
    "minutes = (time_diff.seconds % 3600) // 60\n",
    "\n",
    "# Print the result\n",
    "print(f\"The difference between {date1.date()} and {date2.date()} is {days} days, {hours} hours, and {minutes} minutes.\")\n"
   ]
  },
  {
   "cell_type": "markdown",
   "id": "82efcb65-1f26-4400-9cf5-ef972dc04ff9",
   "metadata": {},
   "source": [
    "Q11. You are given a CSV file containing student data that includes the student ID and their test score. Write\n",
    "a Python program that reads the CSV file, calculates the mean, median, and mode of the test scores, and\n",
    "displays the results in a table.\n",
    "The program should do the followingM\n",
    "I Prompt the user to enter the file path of the CSV file containing the student dataR\n",
    "I Read the CSV file into a Pandas DataFrameR\n",
    "I Calculate the mean, median, and mode of the test scores using Pandas toolsR\n",
    "I Display the mean, median, and mode in a table.\n",
    "Assume the CSV file contains the following columnsM\n",
    "I Student ID: The ID of the studentR\n",
    "I Test Score: The score of the student's test.\n",
    "Example usage of the program:\n",
    "Enter the file path of the CSV file containing the student data: student_data.csv\n",
    "+-----------+--------+\n",
    "| Statistic | Value |\n",
    "+-----------+--------+\n",
    "| Mean | 79.6 |\n",
    "| Median | 82 |\n",
    "| Mode | 85, 90 |\n",
    "+-----------+--------+\n",
    "Assume that the CSV file student_data.csv contains the following data:\n",
    "Student ID,Test Score\n",
    "1,85\n",
    "2,90\n",
    "3,80\n",
    "4,75\n",
    "5,85\n",
    "6,82\n",
    "7,78\n",
    "8,85\n",
    "9,90\n",
    "10,85\n",
    "The program should calculate the mean, median, and mode of the test scores and display the results\n",
    "in a table."
   ]
  },
  {
   "cell_type": "code",
   "execution_count": 8,
   "id": "9e100f6d-560c-454a-85ed-0255923f08b8",
   "metadata": {},
   "outputs": [],
   "source": [
    "data = { 'Student_id' : [1,2,3,4,5,6,7,8,9,10], 'Test_score':[85, 90, 80, 75, 85, 82, 78, 85, 90, 85]}"
   ]
  },
  {
   "cell_type": "code",
   "execution_count": 18,
   "id": "2a65f6eb-e643-43a6-bf5f-f8a739e3cbb7",
   "metadata": {},
   "outputs": [],
   "source": [
    "df = pd.DataFrame(data)"
   ]
  },
  {
   "cell_type": "code",
   "execution_count": 25,
   "id": "7b467016-bff4-4ae4-b1ae-8b3c5b8f5578",
   "metadata": {},
   "outputs": [],
   "source": [
    "mean = df.loc[: , 'Test_score'].mean()"
   ]
  },
  {
   "cell_type": "code",
   "execution_count": 26,
   "id": "f2767727-f12a-4074-a826-46930285830d",
   "metadata": {},
   "outputs": [],
   "source": [
    "median = df.loc[:, \"Test_score\"].median()"
   ]
  },
  {
   "cell_type": "code",
   "execution_count": 38,
   "id": "44c6f7b3-9dc6-4f80-b6eb-c4baa525f8e8",
   "metadata": {},
   "outputs": [],
   "source": [
    "mode = df.loc[:, 'Test_score'].mode().tolist()"
   ]
  },
  {
   "cell_type": "code",
   "execution_count": 39,
   "id": "abd86cc4-e1d1-4ed9-a70b-0f23408428ed",
   "metadata": {},
   "outputs": [
    {
     "name": "stdout",
     "output_type": "stream",
     "text": [
      "+.....+...+\n",
      "| Statistic | Value |\n",
      " +.....+...+\n",
      "f| mean | {mean}|\n",
      "|median | 85.0 | \n",
      " | mode | [85] | \n"
     ]
    }
   ],
   "source": [
    "print('+.....+...+')\n",
    "print('| Statistic | Value |')\n",
    "print(\" +.....+...+\")\n",
    "print(\"f| mean | {mean}|\")\n",
    "print(f\"|median | {median} | \")\n",
    "print(F\" | mode | {mode} | \")"
   ]
  },
  {
   "cell_type": "code",
   "execution_count": null,
   "id": "229f4f49-d8d1-478e-8a3c-79fa73874c68",
   "metadata": {},
   "outputs": [],
   "source": []
  }
 ],
 "metadata": {
  "kernelspec": {
   "display_name": "Python 3 (ipykernel)",
   "language": "python",
   "name": "python3"
  },
  "language_info": {
   "codemirror_mode": {
    "name": "ipython",
    "version": 3
   },
   "file_extension": ".py",
   "mimetype": "text/x-python",
   "name": "python",
   "nbconvert_exporter": "python",
   "pygments_lexer": "ipython3",
   "version": "3.10.8"
  }
 },
 "nbformat": 4,
 "nbformat_minor": 5
}
